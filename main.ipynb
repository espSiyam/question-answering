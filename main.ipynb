{
 "cells": [
  {
   "cell_type": "code",
   "execution_count": 3,
   "id": "fc6dee5e-9f9c-4859-acce-fd6a5352adaf",
   "metadata": {},
   "outputs": [],
   "source": [
    "# Importing libaries\n",
    "import pandas as pd\n",
    "from sentence_similarity import sentence_similarity"
   ]
  },
  {
   "cell_type": "code",
   "execution_count": 4,
   "id": "8449ccc2-0576-4088-ab35-b532c07bdf73",
   "metadata": {},
   "outputs": [],
   "source": [
    "# Importing dataframes\n",
    "faq = pd.read_csv(\"FAQs.csv\")\n",
    "faq_test = pd.read_csv(\"FAQs_test.csv\")"
   ]
  },
  {
   "cell_type": "code",
   "execution_count": 5,
   "id": "af2a5359-5bab-4332-8bf0-46c398bc9e06",
   "metadata": {},
   "outputs": [
    {
     "name": "stderr",
     "output_type": "stream",
     "text": [
      "WARNING:root:No sentence-transformers model found with name C:\\Users\\my pc/.cache\\torch\\sentence_transformers\\distilbert-base-uncased. Creating a new one with MEAN pooling.\n",
      "Some weights of the model checkpoint at C:\\Users\\my pc/.cache\\torch\\sentence_transformers\\distilbert-base-uncased were not used when initializing DistilBertModel: ['vocab_layer_norm.weight', 'vocab_projector.bias', 'vocab_projector.weight', 'vocab_transform.weight', 'vocab_transform.bias', 'vocab_layer_norm.bias']\n",
      "- This IS expected if you are initializing DistilBertModel from the checkpoint of a model trained on another task or with another architecture (e.g. initializing a BertForSequenceClassification model from a BertForPreTraining model).\n",
      "- This IS NOT expected if you are initializing DistilBertModel from the checkpoint of a model that you expect to be exactly identical (initializing a BertForSequenceClassification model from a BertForSequenceClassification model).\n"
     ]
    }
   ],
   "source": [
    "# Importing model\n",
    "model=sentence_similarity(model_name='distilbert-base-uncased',embedding_type='sentence_embedding')"
   ]
  },
  {
   "cell_type": "code",
   "execution_count": 26,
   "id": "89d5b46a-8c2f-4129-b005-ca57597b667d",
   "metadata": {},
   "outputs": [
    {
     "name": "stdout",
     "output_type": "stream",
     "text": [
      "\n",
      "Test question is: What is the date of his death?\n",
      "\n",
      "Most similar question is: When did he die?\n",
      "Most similar answer is: He died 18 April 1955 in Princeton, New Jersey, USA.\n",
      "\n",
      "Test question is: Did Einstein have siblings?\n",
      "\n",
      "Most similar question is: Did he have any sisters and brothers?\n",
      "Most similar answer is: He had one sister named Maja.\n",
      "\n",
      "Test question is: Who was his wife?\n",
      "\n",
      "Most similar question is: Who were his parents?\n",
      "Most similar answer is: His father was Hermann Einstein and his mother was Pauline Einstein (born Koch).\n",
      "\n",
      "Test question is: What was Einstein's father's name?\n",
      "\n",
      "Most similar question is: When was Albert Einstein born?\n",
      "Most similar answer is: Albert Einstein was born on 14 March 1879.\n",
      "\n",
      "Test question is: At what institutions did he study?\n",
      "\n",
      "Most similar question is: Where did he receive his education?\n",
      "Most similar answer is: He received his main education at the following schools: Catholic elementary school in Munich, Germany (1885-1888)Luitpold Gymnasium in Munich, Germany (1888-1894) Cantonal school in Aarau, Switzerland (1895-1896) Swiss Federal Institute of Technology in Zurich, Switzerland (1896-1900) Ph.D. from Zurich University, Switzerland (1905)\n"
     ]
    }
   ],
   "source": [
    "# Checking test question and actual question similarity\n",
    "\n",
    "for question in faq_test['Question']:\n",
    "    asked_question = question\n",
    "    score_leaderboard = []\n",
    "\n",
    "    for i in range(len(faq)):\n",
    "      base_question = (faq['Question'].iloc[i])\n",
    "      score=model.get_score(asked_question,base_question,metric=\"cosine\")\n",
    "      score_leaderboard.append(score)\n",
    "\n",
    "    most_similar_index = score_leaderboard.index(max(score_leaderboard))\n",
    "    \n",
    "    print(f\"\\nTest question is: {asked_question}\")\n",
    "    print(f\"\\nMost similar question is: {faq['Question'].iloc[most_similar_index]}\")\n",
    "    print(f\"Most similar answer is: {faq['Answer'].iloc[most_similar_index]}\")"
   ]
  },
  {
   "cell_type": "markdown",
   "id": "ec289819-2d3f-47bf-bc48-d40fbebc81d8",
   "metadata": {},
   "source": [
    "## Result\n",
    "\n",
    "- metric: \n",
    "    1. cosine: 3 (Highest)\n",
    "    2. euclidean: 1\n",
    "    3. manhattan: 1\n",
    "    4. minkowski: 1\n",
    "\n",
    "\n",
    "- embedding_type:\n",
    "    1. sentence_embedding: \n",
    "    2. cls_token_embedding: 2"
   ]
  },
  {
   "cell_type": "code",
   "execution_count": null,
   "id": "3378b25f-ce4f-4bb2-99a6-3377aa12f45f",
   "metadata": {},
   "outputs": [],
   "source": []
  }
 ],
 "metadata": {
  "kernelspec": {
   "display_name": "Python 3",
   "language": "python",
   "name": "python3"
  },
  "language_info": {
   "codemirror_mode": {
    "name": "ipython",
    "version": 3
   },
   "file_extension": ".py",
   "mimetype": "text/x-python",
   "name": "python",
   "nbconvert_exporter": "python",
   "pygments_lexer": "ipython3",
   "version": "3.6.3"
  }
 },
 "nbformat": 4,
 "nbformat_minor": 5
}
